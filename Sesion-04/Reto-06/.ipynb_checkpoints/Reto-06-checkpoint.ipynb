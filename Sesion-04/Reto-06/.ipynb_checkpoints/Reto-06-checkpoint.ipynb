{
 "cells": [
  {
   "cell_type": "markdown",
   "metadata": {},
   "source": [
    "# Diccionarios, JSONs y Analísis Estadísticos de Datos\n",
    "## Reto 06\n",
    "### Dr. Antonio Arista Jalife.\n",
    "Genera un análisis estadístico de datos (EDA), basado en un archivo de JSON."
   ]
  },
  {
   "cell_type": "code",
   "execution_count": 3,
   "metadata": {},
   "outputs": [
    {
     "data": {
      "text/html": [
       "<div>\n",
       "<style scoped>\n",
       "    .dataframe tbody tr th:only-of-type {\n",
       "        vertical-align: middle;\n",
       "    }\n",
       "\n",
       "    .dataframe tbody tr th {\n",
       "        vertical-align: top;\n",
       "    }\n",
       "\n",
       "    .dataframe thead th {\n",
       "        text-align: right;\n",
       "    }\n",
       "</style>\n",
       "<table border=\"1\" class=\"dataframe\">\n",
       "  <thead>\n",
       "    <tr style=\"text-align: right;\">\n",
       "      <th></th>\n",
       "      <th>fields.name</th>\n",
       "      <th>fields.location_lat</th>\n",
       "      <th>fields.location_lon</th>\n",
       "      <th>fields.nearbystations_0</th>\n",
       "    </tr>\n",
       "  </thead>\n",
       "  <tbody>\n",
       "    <tr>\n",
       "      <th>0</th>\n",
       "      <td>443 BRUNO TRAVEN-GOLONDRINAS</td>\n",
       "      <td>19.359655</td>\n",
       "      <td>-99.162025</td>\n",
       "      <td>432</td>\n",
       "    </tr>\n",
       "    <tr>\n",
       "      <th>1</th>\n",
       "      <td>416 RECREO-PARROQUÍA</td>\n",
       "      <td>19.371308</td>\n",
       "      <td>-99.177607</td>\n",
       "      <td>390</td>\n",
       "    </tr>\n",
       "    <tr>\n",
       "      <th>2</th>\n",
       "      <td>440 REAL DE MAYORAZGO-PUENTE XOCO</td>\n",
       "      <td>19.360650</td>\n",
       "      <td>-99.168669</td>\n",
       "      <td>433</td>\n",
       "    </tr>\n",
       "    <tr>\n",
       "      <th>3</th>\n",
       "      <td>12 RIO LERMA-VILLALONGIN</td>\n",
       "      <td>19.432313</td>\n",
       "      <td>-99.161597</td>\n",
       "      <td>11</td>\n",
       "    </tr>\n",
       "    <tr>\n",
       "      <th>4</th>\n",
       "      <td>41 REFORMA-AV. DE LA REPUBLICA</td>\n",
       "      <td>19.435637</td>\n",
       "      <td>-99.150137</td>\n",
       "      <td>29</td>\n",
       "    </tr>\n",
       "  </tbody>\n",
       "</table>\n",
       "</div>"
      ],
      "text/plain": [
       "                         fields.name  fields.location_lat  \\\n",
       "0       443 BRUNO TRAVEN-GOLONDRINAS            19.359655   \n",
       "1               416 RECREO-PARROQUÍA            19.371308   \n",
       "2  440 REAL DE MAYORAZGO-PUENTE XOCO            19.360650   \n",
       "3           12 RIO LERMA-VILLALONGIN            19.432313   \n",
       "4     41 REFORMA-AV. DE LA REPUBLICA            19.435637   \n",
       "\n",
       "   fields.location_lon  fields.nearbystations_0  \n",
       "0           -99.162025                      432  \n",
       "1           -99.177607                      390  \n",
       "2           -99.168669                      433  \n",
       "3           -99.161597                       11  \n",
       "4           -99.150137                       29  "
      ]
     },
     "execution_count": 3,
     "metadata": {},
     "output_type": "execute_result"
    }
   ],
   "source": [
    "import pandas as pd\n",
    "import json\n",
    "import matplotlib.pyplot as plt\n",
    "%matplotlib inline\n",
    "\n",
    "with open('Estaciones de bicicletas.json','rt') as archivo:\n",
    "    json_bicicletas = json.load(archivo)\n",
    "    \n",
    "#Normalización del JSON. Esto lo veremos cuando aprendamos a limpiar datos.\n",
    "json_norm_bicicletas = pd.io.json.json_normalize(json_bicicletas)\n",
    "dataframe_biciestaciones = pd.DataFrame.from_dict(json_norm_bicicletas)\n",
    "df_estaciones = dataframe_biciestaciones[['fields.name','fields.location_lat','fields.location_lon','fields.nearbystations_0']]\n",
    "df_estaciones.head(5)"
   ]
  },
  {
   "cell_type": "code",
   "execution_count": 4,
   "metadata": {},
   "outputs": [
    {
     "name": "stdout",
     "output_type": "stream",
     "text": [
      "Análisis estadístico de datos: EDA\n",
      "Maxima latitud: 19.446073\n",
      "Minima latitud: 19.35827\n",
      "Maxima longitud: -99.130918\n",
      "Minima longitud: -99.212845\n",
      "Latitud promedio:19.40964677416667\n",
      "Longitud promedio:-99.17091768453243\n",
      "Estaciones mas céntricas (por histograma):\n",
      "Estacion mas céntrica:\n"
     ]
    },
    {
     "data": {
      "text/plain": [
       "0    176\n",
       "dtype: int64"
      ]
     },
     "execution_count": 4,
     "metadata": {},
     "output_type": "execute_result"
    },
    {
     "data": {
      "image/png": "[encoded data removed]",
      "text/plain": [
       "<Figure size 432x288 with 1 Axes>"
      ]
     },
     "metadata": {
      "needs_background": "light"
     },
     "output_type": "display_data"
    }
   ],
   "source": [
    "print(\"Análisis estadístico de datos: EDA\")\n",
    "print(\"Maxima latitud: \"+str(df_estaciones['fields.location_lat'].max()))\n",
    "print(\"Minima latitud: \"+str(df_estaciones['fields.location_lat'].min()))\n",
    "print(\"Maxima longitud: \"+str(df_estaciones['fields.location_lon'].max()))\n",
    "print(\"Minima longitud: \"+str(df_estaciones['fields.location_lon'].min()))\n",
    "print(\"Latitud promedio:\"+str(df_estaciones['fields.location_lat'].mean()))\n",
    "print(\"Longitud promedio:\"+str(df_estaciones['fields.location_lon'].mean()))\n",
    "\n",
    "print(\"Estaciones mas céntricas (por histograma):\")\n",
    "binsToUse = df_estaciones['fields.nearbystations_0'].max()\n",
    "df_estaciones['fields.nearbystations_0'].hist(bins = binsToUse)\n",
    "print(\"Estacion mas céntrica:\")\n",
    "df_estaciones['fields.nearbystations_0'].mode()"
   ]
  },
  {
   "cell_type": "code",
   "execution_count": null,
   "metadata": {},
   "outputs": [],
   "source": []
  }
 ],
 "metadata": {
  "kernelspec": {
   "display_name": "Python 3",
   "language": "python",
   "name": "python3"
  },
  "language_info": {
   "codemirror_mode": {
    "name": "ipython",
    "version": 3
   },
   "file_extension": ".py",
   "mimetype": "text/x-python",
   "name": "python",
   "nbconvert_exporter": "python",
   "pygments_lexer": "ipython3",
   "version": "3.5.2"
  }
 },
 "nbformat": 4,
 "nbformat_minor": 2
}
