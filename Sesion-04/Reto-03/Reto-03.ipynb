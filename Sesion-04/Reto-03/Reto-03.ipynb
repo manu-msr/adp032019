{
 "cells": [
  {
   "cell_type": "markdown",
   "metadata": {},
   "source": [
    "# Diccionarios, JSONs y Analísis Estadísticos de Datos\n",
    "## Reto 03\n",
    "Describete a tres compañeros con un diccionario. utiliza el método \"Copy\""
   ]
  },
  {
   "cell_type": "code",
   "execution_count": 4,
   "metadata": {},
   "outputs": [],
   "source": [
    "profeAntonio = {\n",
    "    'Nombre':'Antonio',\n",
    "    'Apellido':'Arista',\n",
    "    'Edad':32,\n",
    "    'Hobbies':['Artes Marciales', 'Escritura','Lectura'] \n",
    "}"
   ]
  },
  {
   "cell_type": "code",
   "execution_count": 5,
   "metadata": {},
   "outputs": [],
   "source": [
    "persona1 = profeAntonio.copy()\n",
    "persona2 = profeAntonio.copy()\n",
    "persona3 = profeAntonio.copy()"
   ]
  },
  {
   "cell_type": "code",
   "execution_count": 6,
   "metadata": {},
   "outputs": [],
   "source": [
    "contactos = [persona1, persona2, persona3]"
   ]
  },
  {
   "cell_type": "code",
   "execution_count": 7,
   "metadata": {},
   "outputs": [
    {
     "name": "stdout",
     "output_type": "stream",
     "text": [
      "[{'Hobbies': ['Artes Marciales', 'Escritura', 'Lectura'], 'Edad': 32, 'Nombre': 'Antonio', 'Apellido': 'Arista'}, {'Hobbies': ['Artes Marciales', 'Escritura', 'Lectura'], 'Edad': 32, 'Nombre': 'Antonio', 'Apellido': 'Arista'}, {'Hobbies': ['Artes Marciales', 'Escritura', 'Lectura'], 'Edad': 32, 'Nombre': 'Antonio', 'Apellido': 'Arista'}]\n"
     ]
    }
   ],
   "source": [
    "print(contactos)"
   ]
  },
  {
   "cell_type": "code",
   "execution_count": null,
   "metadata": {},
   "outputs": [],
   "source": []
  }
 ],
 "metadata": {
  "kernelspec": {
   "display_name": "Python 3",
   "language": "python",
   "name": "python3"
  },
  "language_info": {
   "codemirror_mode": {
    "name": "ipython",
    "version": 3
   },
   "file_extension": ".py",
   "mimetype": "text/x-python",
   "name": "python",
   "nbconvert_exporter": "python",
   "pygments_lexer": "ipython3",
   "version": "3.5.2"
  }
 },
 "nbformat": 4,
 "nbformat_minor": 2
}
