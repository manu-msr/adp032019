{
 "cells": [
  {
   "cell_type": "markdown",
   "metadata": {},
   "source": [
    "## Reto 02\n",
    "En este reto deberás utilizar la distancia euclidiana para calcular la distancia entre cada uno de los centroides. El centroide mas cercarno será el que le corresponderá su clase."
   ]
  },
  {
   "cell_type": "code",
   "execution_count": 1,
   "metadata": {},
   "outputs": [],
   "source": [
    "import numpy as np\n",
    "import pandas as pd\n",
    "from matplotlib import pyplot as plt\n",
    "from sklearn.datasets.samples_generator import make_blobs\n",
    "from sklearn.cluster import KMeans"
   ]
  },
  {
   "cell_type": "code",
   "execution_count": 2,
   "metadata": {},
   "outputs": [
    {
     "data": {
      "text/plain": [
       "KMeans(algorithm='auto', copy_x=True, init='random', max_iter=300, n_clusters=9,\n",
       "       n_init=10, n_jobs=None, precompute_distances='auto', random_state=None,\n",
       "       tol=0.0001, verbose=0)"
      ]
     },
     "execution_count": 2,
     "metadata": {},
     "output_type": "execute_result"
    }
   ],
   "source": [
    "x,y = make_blobs(n_samples = 1000, centers = 9, cluster_std=1.5)\n",
    "k_medias = KMeans(n_clusters = 9, max_iter = 300, init = 'random')\n",
    "k_medias.fit(x)"
   ]
  },
  {
   "cell_type": "code",
   "execution_count": 3,
   "metadata": {},
   "outputs": [],
   "source": [
    "def distanciaEuclidiana(valor1, valor2):\n",
    "    resta = valor1-valor2\n",
    "    potencia = np.power(resta,2)\n",
    "    suma = np.sum(potencia)\n",
    "    resultado = np.sqrt(suma)\n",
    "    return resultado"
   ]
  },
  {
   "cell_type": "code",
   "execution_count": 7,
   "metadata": {},
   "outputs": [
    {
     "name": "stdout",
     "output_type": "stream",
     "text": [
      "La muestra 10 pertenece a la clase 1\n"
     ]
    }
   ],
   "source": [
    "centros = k_medias.cluster_centers_\n",
    "numMuestra = 10\n",
    "muestra = x[numMuestra]\n",
    "distancias = np.zeros(len(centros))\n",
    "for counter in range(0,len(distancias)):\n",
    "    distancias[counter] = distanciaEuclidiana(muestra,centros[counter])\n",
    "\n",
    "clase = np.argmin(centros)\n",
    "print(\"La muestra \"+str(numMuestra)+\" pertenece a la clase \"+str(clase))"
   ]
  },
  {
   "cell_type": "markdown",
   "metadata": {},
   "source": [
    "Como extra: puedes ver que efectivamente la muestra está cerca de una clase."
   ]
  },
  {
   "cell_type": "code",
   "execution_count": 8,
   "metadata": {},
   "outputs": [
    {
     "data": {
      "image/png": "[encoded data removed]",
      "text/plain": [
       "<Figure size 432x288 with 1 Axes>"
      ]
     },
     "metadata": {
      "needs_background": "light"
     },
     "output_type": "display_data"
    }
   ],
   "source": [
    "plt.scatter(muestra[0], muestra[1])\n",
    "plt.scatter(centros[:,0], centros[:,1], c ='red')\n",
    "plt.scatter(centros[clase,0], centros[clase,1], c='yellow')\n",
    "plt.show()"
   ]
  },
  {
   "cell_type": "code",
   "execution_count": null,
   "metadata": {},
   "outputs": [],
   "source": []
  }
 ],
 "metadata": {
  "kernelspec": {
   "display_name": "Python 3",
   "language": "python",
   "name": "python3"
  },
  "language_info": {
   "codemirror_mode": {
    "name": "ipython",
    "version": 3
   },
   "file_extension": ".py",
   "mimetype": "text/x-python",
   "name": "python",
   "nbconvert_exporter": "python",
   "pygments_lexer": "ipython3",
   "version": "3.5.2"
  }
 },
 "nbformat": 4,
 "nbformat_minor": 2
}
