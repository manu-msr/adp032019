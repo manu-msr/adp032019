{
 "cells": [
  {
   "cell_type": "markdown",
   "metadata": {},
   "source": [
    "# Reto 02\n",
    "### Dr. Antonio Arista Jalife.\n",
    "\n",
    "En este reto hay que generar una matriz de 10 x 10 aleatoria, y solamente conservar los valores mayores a 0.5"
   ]
  },
  {
   "cell_type": "code",
   "execution_count": 1,
   "metadata": {},
   "outputs": [],
   "source": [
    "import numpy as np"
   ]
  },
  {
   "cell_type": "code",
   "execution_count": 3,
   "metadata": {},
   "outputs": [
    {
     "name": "stdout",
     "output_type": "stream",
     "text": [
      "[[ True False  True  True False  True False False  True  True]\n",
      " [ True  True  True  True False False False False  True False]\n",
      " [ True  True False  True  True False False False False False]\n",
      " [False  True False False False False False False False False]\n",
      " [ True False False  True False False  True False  True  True]\n",
      " [False  True  True  True  True  True False False False  True]\n",
      " [ True  True False  True  True False  True  True False False]\n",
      " [False  True  True False  True  True False  True False  True]\n",
      " [ True  True  True  True False  True False False  True  True]\n",
      " [ True  True False False  True False False False  True  True]]\n"
     ]
    }
   ],
   "source": [
    "matriz = np.random.rand(10,10)\n",
    "matrizBooleana = (matriz > 0.5)\n",
    "print(matrizBooleana)"
   ]
  },
  {
   "cell_type": "code",
   "execution_count": 4,
   "metadata": {},
   "outputs": [
    {
     "name": "stdout",
     "output_type": "stream",
     "text": [
      "[[1 0 1 1 0 1 0 0 1 1]\n",
      " [1 1 1 1 0 0 0 0 1 0]\n",
      " [1 1 0 1 1 0 0 0 0 0]\n",
      " [0 1 0 0 0 0 0 0 0 0]\n",
      " [1 0 0 1 0 0 1 0 1 1]\n",
      " [0 1 1 1 1 1 0 0 0 1]\n",
      " [1 1 0 1 1 0 1 1 0 0]\n",
      " [0 1 1 0 1 1 0 1 0 1]\n",
      " [1 1 1 1 0 1 0 0 1 1]\n",
      " [1 1 0 0 1 0 0 0 1 1]]\n",
      "Solo los valores mayores a 0.5:\n",
      "[[0.64738412 0.         0.63429122 0.58337306 0.         0.74207203\n",
      "  0.         0.         0.78084564 0.99050739]\n",
      " [0.93196409 0.58693358 0.91419294 0.97369523 0.         0.\n",
      "  0.         0.         0.54854374 0.        ]\n",
      " [0.8987238  0.71777409 0.         0.58397979 0.93458385 0.\n",
      "  0.         0.         0.         0.        ]\n",
      " [0.         0.56679273 0.         0.         0.         0.\n",
      "  0.         0.         0.         0.        ]\n",
      " [0.71322183 0.         0.         0.59082879 0.         0.\n",
      "  0.65919022 0.         0.72299004 0.55499076]\n",
      " [0.         0.51924421 0.84998915 0.93580571 0.85269131 0.95376719\n",
      "  0.         0.         0.         0.6935404 ]\n",
      " [0.87071965 0.57459577 0.         0.6717446  0.88097209 0.\n",
      "  0.73795728 0.63262707 0.         0.        ]\n",
      " [0.         0.88865864 0.90714929 0.         0.83623331 0.51643646\n",
      "  0.         0.80697927 0.         0.92605643]\n",
      " [0.98872767 0.98046353 0.90683599 0.73659356 0.         0.55556525\n",
      "  0.         0.         0.78495032 0.59863514]\n",
      " [0.64717298 0.70309814 0.         0.         0.71511799 0.\n",
      "  0.         0.         0.59620795 0.97244274]]\n"
     ]
    }
   ],
   "source": [
    "filtro = np.array(matrizBooleana, dtype = np.int32)\n",
    "print(filtro)\n",
    "#con este filtro, quitamos todos los elementos mayores a 5\n",
    "resultado = matriz * filtro\n",
    "print(\"Solo los valores mayores a 0.5:\")\n",
    "print(resultado)"
   ]
  },
  {
   "cell_type": "code",
   "execution_count": null,
   "metadata": {},
   "outputs": [],
   "source": []
  }
 ],
 "metadata": {
  "kernelspec": {
   "display_name": "Python 3",
   "language": "python",
   "name": "python3"
  },
  "language_info": {
   "codemirror_mode": {
    "name": "ipython",
    "version": 3
   },
   "file_extension": ".py",
   "mimetype": "text/x-python",
   "name": "python",
   "nbconvert_exporter": "python",
   "pygments_lexer": "ipython3",
   "version": "3.5.2"
  }
 },
 "nbformat": 4,
 "nbformat_minor": 2
}
